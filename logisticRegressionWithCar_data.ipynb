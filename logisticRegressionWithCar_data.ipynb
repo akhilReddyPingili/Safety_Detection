{
  "nbformat": 4,
  "nbformat_minor": 0,
  "metadata": {
    "colab": {
      "name": "Welcome To Colaboratory",
      "provenance": [],
      "collapsed_sections": [],
      "toc_visible": true,
      "include_colab_link": true
    },
    "kernelspec": {
      "display_name": "Python 3",
      "name": "python3"
    }
  },
  "cells": [
    {
      "cell_type": "markdown",
      "metadata": {
        "id": "view-in-github",
        "colab_type": "text"
      },
      "source": [
        "<a href=\"https://colab.research.google.com/github/akhilReddyPingili/Safety_Detection/blob/master/logisticRegressionWithCar_data.ipynb\" target=\"_parent\"><img src=\"https://colab.research.google.com/assets/colab-badge.svg\" alt=\"Open In Colab\"/></a>"
      ]
    },
    {
      "cell_type": "code",
      "metadata": {
        "id": "TZ-8Thm26JL3",
        "colab_type": "code",
        "colab": {
          "base_uri": "https://localhost:8080/",
          "height": 151
        },
        "outputId": "03d534ad-5752-4fed-f6ca-615718246e34"
      },
      "source": [
        "!git clone https://github.com/akhilReddyPingili/computerVision.git"
      ],
      "execution_count": 1,
      "outputs": [
        {
          "output_type": "stream",
          "text": [
            "Cloning into 'computerVision'...\n",
            "remote: Enumerating objects: 7, done.\u001b[K\n",
            "remote: Counting objects: 100% (7/7), done.\u001b[K\n",
            "remote: Compressing objects: 100% (7/7), done.\u001b[K\n",
            "remote: Total 3991 (delta 1), reused 0 (delta 0), pack-reused 3984\u001b[K\n",
            "Receiving objects: 100% (3991/3991), 327.02 MiB | 49.82 MiB/s, done.\n",
            "Resolving deltas: 100% (102/102), done.\n",
            "Checking out files: 100% (4002/4002), done.\n"
          ],
          "name": "stdout"
        }
      ]
    },
    {
      "cell_type": "code",
      "metadata": {
        "id": "JSh7KeC553Rf",
        "colab_type": "code",
        "colab": {
          "base_uri": "https://localhost:8080/",
          "height": 726
        },
        "outputId": "524b20f0-7377-49b0-f799-3bdeef60ecb8"
      },
      "source": [
        "from sklearn.neighbors import KNeighborsClassifier\n",
        "from sklearn.preprocessing import LabelEncoder\n",
        "from sklearn.model_selection import train_test_split\n",
        "from sklearn.metrics import classification_report\n",
        "from imutils import paths\n",
        "import argparse\n",
        "import cv2\n",
        "import numpy as np\n",
        "import matplotlib.pyplot as plt\n",
        "from __future__ import print_function\n",
        "from sklearn.metrics import classification_report\n",
        "from sklearn.linear_model import LogisticRegression\n",
        "from sklearn import datasets\n",
        "import numpy as np\n",
        "import imutils\n",
        "import cv2\n",
        "import sklearn\n",
        "\n",
        "\n",
        "label_name=[\"Nissan Micra\",\"Renault Duster\",\"Renault Kwid\"]\n",
        "\n",
        "\n",
        "def load():\n",
        "\t\t# initialize the list of features and labels\n",
        "\t\tdata = []\n",
        "\t\tlabels = []\n",
        "\n",
        "\t\t# loop over the input images\n",
        "\t\tfor (i, imagePath) in enumerate(imagePaths):\n",
        "\t\t\t# load the image and extract the class label assuming\n",
        "\t\t\t# that our path has the following format:\n",
        "\t\t\t# /path/to/dataset/{class}/{image}.jpg\n",
        "\t\t\timage = cv2.imread(imagePath)\n",
        "\t\t\tlabel = imagePath.split(\"/\")[-2]\n",
        "\t\t\t#label = imagePath.split(os.path.sep)[-2]\n",
        "\t\t\timage = cv2.resize(image, (32, 32),interpolation=cv2.INTER_AREA)\n",
        "\t\t\t\n",
        "\t\t\t# treat our processed image as a \"feature vector\"\n",
        "\t\t\t# by updating the data list followed by the labels\n",
        "\t\t\tdata.append(image)\n",
        "\t\t\tlabels.append(label)\n",
        "\n",
        "\t\t\t# show an update every `verbose` images\n",
        "\t\t\t#if verbose > 0 and i > 0 and (i + 1) % verbose == 0:\n",
        "\t\t\t\t#print(\"[INFO] processed {}/{}\".format(i + 1,\n",
        "\t\t\t\t\t#len(imagePaths)))\n",
        "\n",
        "\t\t# return a tuple of the data and labels\n",
        "\t\treturn (np.array(data), np.array(labels))\n",
        "\n",
        "\n",
        "# grab the list of images that we'll be describing\n",
        "print(\"[INFO] loading images...\")\n",
        "imagePaths = list(paths.list_images(\"/content/computerVision/Car_Dataset\"))\n",
        "print(imagePaths)\n",
        "\n",
        "# initialize the image preprocessor, load the dataset from disk,\n",
        "# and reshape the data matrix\n",
        "#sp = SimplePreprocessor(32, 32)\n",
        "#sdl = SimpleDatasetLoader(preprocessors=[sp])\n",
        "(data, labels) = load()\n",
        "\n",
        "data = data.reshape((data.shape[0], 3072))\n",
        "\n",
        "\n",
        "# encode the labels as integers\n",
        "le = LabelEncoder()\n",
        "labels = le.fit_transform(labels)\n",
        "\n",
        "# partition the data into training and testing splits using 75% of\n",
        "# the data for training and the remaining 25% for testing\n",
        "\n",
        "print(\"[INFO] fetching data...\")\n",
        "(trainX, testData, trainY, testLabels) = train_test_split(data, labels,\n",
        "\ttest_size=0.25, random_state=42)\n",
        "\n",
        "# train the model and show the classification report\n",
        "print(\"[INFO] training model...\")\n",
        "model = LogisticRegression()\n",
        "model.fit(trainX, trainY)\n",
        "print(classification_report(testLabels, model.predict(testData)))\n",
        "\n",
        "#target_names =[\"\",\"\",\"\"]\n",
        "# loop over a few random images\n",
        "for i in list(map(int, np.random.randint(0, high=testLabels.shape[0], size=(10,)))):\n",
        "  # grab the image and the name, then resize the image so we can better see it\n",
        "  image = testData[i].reshape((-1,1))\n",
        "  name = label_name[testLabels[i]]\n",
        "  image = imutils.resize(image.astype(\"uint8\"), width=image.shape[1] * 3, inter=cv2.INTER_CUBIC)\n",
        "\n",
        "  # classify the face\n",
        "  prediction = model.predict(testData[i].reshape(1, -1))[0]\n",
        "  print(prediction)\n",
        "  prediction = label_name[prediction]\n",
        "  print(\"[PREDICTION] predicted: {}, actual: {}\".format(prediction, name))\n",
        "  cv2.imwrite(\"Face.jpg\", image)\n",
        "  cv2.waitKey(0)"
      ],
      "execution_count": 2,
      "outputs": [
        {
          "output_type": "stream",
          "text": [
            "[INFO] loading images...\n",
            "['/content/computerVision/Car_Dataset/Nissan Micra/000045.jpg', '/content/computerVision/Car_Dataset/Nissan Micra/000130.jpg', '/content/computerVision/Car_Dataset/Nissan Micra/000083.jpg', '/content/computerVision/Car_Dataset/Nissan Micra/000005.jpg', '/content/computerVision/Car_Dataset/Nissan Micra/000119.JPG', '/content/computerVision/Car_Dataset/Nissan Micra/000129.jpg', '/content/computerVision/Car_Dataset/Nissan Micra/000090.jpg', '/content/computerVision/Car_Dataset/Nissan Micra/000132.jpg', '/content/computerVision/Car_Dataset/Nissan Micra/000128.jpg', '/content/computerVision/Car_Dataset/Nissan Micra/000094.jpg', '/content/computerVision/Car_Dataset/Nissan Micra/000012.jpg', '/content/computerVision/Car_Dataset/Nissan Micra/000131.jpg', '/content/computerVision/Car_Dataset/Nissan Micra/000022.jpg', '/content/computerVision/Car_Dataset/Nissan Micra/000028.jpg', '/content/computerVision/Car_Dataset/Nissan Micra/000046.JPG', '/content/computerVision/Car_Dataset/Nissan Micra/000070.jpg', '/content/computerVision/Car_Dataset/Nissan Micra/000017.jpg', '/content/computerVision/Car_Dataset/Nissan Micra/000114.jpg', '/content/computerVision/Car_Dataset/Nissan Micra/000141.jpg', '/content/computerVision/Car_Dataset/Nissan Micra/000067.jpg', '/content/computerVision/Car_Dataset/Nissan Micra/000139.jpg', '/content/computerVision/Car_Dataset/Nissan Micra/000013.jpg', '/content/computerVision/Car_Dataset/Nissan Micra/000105.jpg', '/content/computerVision/Car_Dataset/Nissan Micra/000101.jpg', '/content/computerVision/Car_Dataset/Nissan Micra/000084.jpg', '/content/computerVision/Car_Dataset/Nissan Micra/000108.jpg', '/content/computerVision/Car_Dataset/Nissan Micra/000051.jpg', '/content/computerVision/Car_Dataset/Nissan Micra/000137.jpg', '/content/computerVision/Car_Dataset/Nissan Micra/000109.jpg', '/content/computerVision/Car_Dataset/Nissan Micra/000025.jpg', '/content/computerVision/Car_Dataset/Nissan Micra/000062.jpg', '/content/computerVision/Car_Dataset/Nissan Micra/000127.jpg', '/content/computerVision/Car_Dataset/Nissan Micra/000147.jpg', '/content/computerVision/Car_Dataset/Nissan Micra/000123.jpg', '/content/computerVision/Car_Dataset/Nissan Micra/000095.jpg', '/content/computerVision/Car_Dataset/Nissan Micra/000023.jpg', '/content/computerVision/Car_Dataset/Nissan Micra/000069.jpg', '/content/computerVision/Car_Dataset/Nissan Micra/000042.jpg', '/content/computerVision/Car_Dataset/Nissan Micra/000111.jpg', '/content/computerVision/Car_Dataset/Nissan Micra/000034.jpg', '/content/computerVision/Car_Dataset/Nissan Micra/000052.jpg', '/content/computerVision/Car_Dataset/Nissan Micra/000078.jpg', '/content/computerVision/Car_Dataset/Nissan Micra/000006.jpg', '/content/computerVision/Car_Dataset/Nissan Micra/000055.jpg', '/content/computerVision/Car_Dataset/Nissan Micra/000148.jpg', '/content/computerVision/Car_Dataset/Nissan Micra/000003.jpg', '/content/computerVision/Car_Dataset/Nissan Micra/000030.jpg', '/content/computerVision/Car_Dataset/Nissan Micra/000074.jpg', '/content/computerVision/Car_Dataset/Nissan Micra/000039.jpg', '/content/computerVision/Car_Dataset/Nissan Micra/000018.jpg', '/content/computerVision/Car_Dataset/Nissan Micra/000102.jpg', '/content/computerVision/Car_Dataset/Nissan Micra/000116.jpg', '/content/computerVision/Car_Dataset/Nissan Micra/000149.png', '/content/computerVision/Car_Dataset/Nissan Micra/000120.jpg', '/content/computerVision/Car_Dataset/Nissan Micra/000043.jpg', '/content/computerVision/Car_Dataset/Nissan Micra/000103.jpg', '/content/computerVision/Car_Dataset/Nissan Micra/000019.jpg', '/content/computerVision/Car_Dataset/Nissan Micra/000053.jpg', '/content/computerVision/Car_Dataset/Nissan Micra/000136.jpg', '/content/computerVision/Car_Dataset/Nissan Micra/000073.jpg', '/content/computerVision/Car_Dataset/Nissan Micra/000007.jpg', '/content/computerVision/Car_Dataset/Nissan Micra/000118.jpg', '/content/computerVision/Car_Dataset/Nissan Micra/000059.jpg', '/content/computerVision/Car_Dataset/Nissan Micra/000086.jpg', '/content/computerVision/Car_Dataset/Nissan Micra/000077.jpg', '/content/computerVision/Car_Dataset/Nissan Micra/000020.jpg', '/content/computerVision/Car_Dataset/Nissan Micra/000134.jpg', '/content/computerVision/Car_Dataset/Nissan Micra/000026.jpg', '/content/computerVision/Car_Dataset/Nissan Micra/000038.jpg', '/content/computerVision/Car_Dataset/Nissan Micra/000146.jpg', '/content/computerVision/Car_Dataset/Nissan Micra/000048.jpg', '/content/computerVision/Car_Dataset/Nissan Micra/000093.jpg', '/content/computerVision/Car_Dataset/Nissan Micra/000001.jpg', '/content/computerVision/Car_Dataset/Nissan Micra/000041.jpg', '/content/computerVision/Car_Dataset/Nissan Micra/000080.jpg', '/content/computerVision/Car_Dataset/Nissan Micra/000004.jpg', '/content/computerVision/Car_Dataset/Nissan Micra/000033.jpg', '/content/computerVision/Car_Dataset/Nissan Micra/000009.jpg', '/content/computerVision/Car_Dataset/Nissan Micra/000047.jpg', '/content/computerVision/Car_Dataset/Nissan Micra/000044.JPG', '/content/computerVision/Car_Dataset/Nissan Micra/000085.jpg', '/content/computerVision/Car_Dataset/Nissan Micra/000076.jpg', '/content/computerVision/Car_Dataset/Nissan Micra/000060.jpg', '/content/computerVision/Car_Dataset/Nissan Micra/000054.jpg', '/content/computerVision/Car_Dataset/Nissan Micra/000029.jpg', '/content/computerVision/Car_Dataset/Nissan Micra/000110.jpg', '/content/computerVision/Car_Dataset/Nissan Micra/000072.jpg', '/content/computerVision/Car_Dataset/Nissan Micra/000082.jpg', '/content/computerVision/Car_Dataset/Nissan Micra/000099.jpg', '/content/computerVision/Car_Dataset/Nissan Micra/000068.jpg', '/content/computerVision/Car_Dataset/Nissan Micra/000133.jpg', '/content/computerVision/Car_Dataset/Nissan Micra/000092.jpg', '/content/computerVision/Car_Dataset/Nissan Micra/000036.jpg', '/content/computerVision/Car_Dataset/Nissan Micra/000097.jpg', '/content/computerVision/Car_Dataset/Nissan Micra/000122.jpg', '/content/computerVision/Car_Dataset/Nissan Micra/000024.jpg', '/content/computerVision/Car_Dataset/Nissan Micra/000016.jpg', '/content/computerVision/Car_Dataset/Nissan Micra/000063.jpg', '/content/computerVision/Car_Dataset/Nissan Micra/000021.jpg', '/content/computerVision/Car_Dataset/Nissan Micra/000125.jpg', '/content/computerVision/Car_Dataset/Nissan Micra/000027.jpg', '/content/computerVision/Car_Dataset/Nissan Micra/000126.jpg', '/content/computerVision/Car_Dataset/Nissan Micra/000135.jpg', '/content/computerVision/Car_Dataset/Nissan Micra/000049.jpg', '/content/computerVision/Car_Dataset/Nissan Micra/000081.JPG', '/content/computerVision/Car_Dataset/Nissan Micra/000096.jpg', '/content/computerVision/Car_Dataset/Nissan Micra/000106.jpg', '/content/computerVision/Car_Dataset/Nissan Micra/000064.jpg', '/content/computerVision/Car_Dataset/Nissan Micra/000065.jpg', '/content/computerVision/Car_Dataset/Nissan Micra/000035.jpg', '/content/computerVision/Car_Dataset/Nissan Micra/000066.jpg', '/content/computerVision/Car_Dataset/Nissan Micra/000121.jpg', '/content/computerVision/Car_Dataset/Nissan Micra/000087.jpg', '/content/computerVision/Car_Dataset/Nissan Micra/000117.jpg', '/content/computerVision/Car_Dataset/Nissan Micra/000143.jpg', '/content/computerVision/Car_Dataset/Nissan Micra/000031.jpg', '/content/computerVision/Car_Dataset/Nissan Micra/000002.jpg', '/content/computerVision/Car_Dataset/Nissan Micra/000037.jpg', '/content/computerVision/Car_Dataset/Nissan Micra/000061.png', '/content/computerVision/Car_Dataset/Nissan Micra/000089.jpg', '/content/computerVision/Car_Dataset/Nissan Micra/000075.jpg', '/content/computerVision/Car_Dataset/Nissan Micra/000140.JPG', '/content/computerVision/Car_Dataset/Renault Duster/000045.jpg', '/content/computerVision/Car_Dataset/Renault Duster/000032.jpg', '/content/computerVision/Car_Dataset/Renault Duster/000044.jpg', '/content/computerVision/Car_Dataset/Renault Duster/000130.jpg', '/content/computerVision/Car_Dataset/Renault Duster/000083.jpg', '/content/computerVision/Car_Dataset/Renault Duster/000005.jpg', '/content/computerVision/Car_Dataset/Renault Duster/000129.jpg', '/content/computerVision/Car_Dataset/Renault Duster/000090.jpg', '/content/computerVision/Car_Dataset/Renault Duster/000132.jpg', '/content/computerVision/Car_Dataset/Renault Duster/000128.jpg', '/content/computerVision/Car_Dataset/Renault Duster/000094.jpg', '/content/computerVision/Car_Dataset/Renault Duster/000012.jpg', '/content/computerVision/Car_Dataset/Renault Duster/000131.jpg', '/content/computerVision/Car_Dataset/Renault Duster/000022.jpg', '/content/computerVision/Car_Dataset/Renault Duster/000104.jpg', '/content/computerVision/Car_Dataset/Renault Duster/000028.jpg', '/content/computerVision/Car_Dataset/Renault Duster/000070.jpg', '/content/computerVision/Car_Dataset/Renault Duster/000017.jpg', '/content/computerVision/Car_Dataset/Renault Duster/000114.jpg', '/content/computerVision/Car_Dataset/Renault Duster/000141.jpg', '/content/computerVision/Car_Dataset/Renault Duster/000067.jpg', '/content/computerVision/Car_Dataset/Renault Duster/000139.jpg', '/content/computerVision/Car_Dataset/Renault Duster/000013.jpg', '/content/computerVision/Car_Dataset/Renault Duster/000105.jpg', '/content/computerVision/Car_Dataset/Renault Duster/000119.jpg', '/content/computerVision/Car_Dataset/Renault Duster/000101.jpg', '/content/computerVision/Car_Dataset/Renault Duster/000046.jpg', '/content/computerVision/Car_Dataset/Renault Duster/000008.jpg', '/content/computerVision/Car_Dataset/Renault Duster/000133.JPG', '/content/computerVision/Car_Dataset/Renault Duster/000084.jpg', '/content/computerVision/Car_Dataset/Renault Duster/000108.jpg', '/content/computerVision/Car_Dataset/Renault Duster/000051.jpg', '/content/computerVision/Car_Dataset/Renault Duster/000137.jpg', '/content/computerVision/Car_Dataset/Renault Duster/000109.jpg', '/content/computerVision/Car_Dataset/Renault Duster/000025.jpg', '/content/computerVision/Car_Dataset/Renault Duster/000062.jpg', '/content/computerVision/Car_Dataset/Renault Duster/000127.jpg', '/content/computerVision/Car_Dataset/Renault Duster/000058.jpg', '/content/computerVision/Car_Dataset/Renault Duster/000010.jpg', '/content/computerVision/Car_Dataset/Renault Duster/000123.jpg', '/content/computerVision/Car_Dataset/Renault Duster/000095.jpg', '/content/computerVision/Car_Dataset/Renault Duster/000023.jpg', '/content/computerVision/Car_Dataset/Renault Duster/000107.jpg', '/content/computerVision/Car_Dataset/Renault Duster/000069.jpg', '/content/computerVision/Car_Dataset/Renault Duster/000042.jpg', '/content/computerVision/Car_Dataset/Renault Duster/000111.jpg', '/content/computerVision/Car_Dataset/Renault Duster/000034.jpg', '/content/computerVision/Car_Dataset/Renault Duster/000100.jpg', '/content/computerVision/Car_Dataset/Renault Duster/000052.jpg', '/content/computerVision/Car_Dataset/Renault Duster/000006.jpg', '/content/computerVision/Car_Dataset/Renault Duster/000055.jpg', '/content/computerVision/Car_Dataset/Renault Duster/000003.jpg', '/content/computerVision/Car_Dataset/Renault Duster/000030.jpg', '/content/computerVision/Car_Dataset/Renault Duster/000074.jpg', '/content/computerVision/Car_Dataset/Renault Duster/000039.jpg', '/content/computerVision/Car_Dataset/Renault Duster/000018.jpg', '/content/computerVision/Car_Dataset/Renault Duster/000102.jpg', '/content/computerVision/Car_Dataset/Renault Duster/000116.jpg', '/content/computerVision/Car_Dataset/Renault Duster/000014.jpg', '/content/computerVision/Car_Dataset/Renault Duster/000120.jpg', '/content/computerVision/Car_Dataset/Renault Duster/000043.jpg', '/content/computerVision/Car_Dataset/Renault Duster/000103.jpg', '/content/computerVision/Car_Dataset/Renault Duster/000019.jpg', '/content/computerVision/Car_Dataset/Renault Duster/000053.jpg', '/content/computerVision/Car_Dataset/Renault Duster/000081.jpg', '/content/computerVision/Car_Dataset/Renault Duster/000088.jpg', '/content/computerVision/Car_Dataset/Renault Duster/000136.jpg', '/content/computerVision/Car_Dataset/Renault Duster/000073.jpg', '/content/computerVision/Car_Dataset/Renault Duster/000118.jpg', '/content/computerVision/Car_Dataset/Renault Duster/000059.jpg', '/content/computerVision/Car_Dataset/Renault Duster/000086.jpg', '/content/computerVision/Car_Dataset/Renault Duster/000077.jpg', '/content/computerVision/Car_Dataset/Renault Duster/000020.jpg', '/content/computerVision/Car_Dataset/Renault Duster/000015.jpg', '/content/computerVision/Car_Dataset/Renault Duster/000134.jpg', '/content/computerVision/Car_Dataset/Renault Duster/000011.jpg', '/content/computerVision/Car_Dataset/Renault Duster/000026.jpg', '/content/computerVision/Car_Dataset/Renault Duster/000016.JPG', '/content/computerVision/Car_Dataset/Renault Duster/000038.jpg', '/content/computerVision/Car_Dataset/Renault Duster/000048.jpg', '/content/computerVision/Car_Dataset/Renault Duster/000093.jpg', '/content/computerVision/Car_Dataset/Renault Duster/000001.jpg', '/content/computerVision/Car_Dataset/Renault Duster/000041.jpg', '/content/computerVision/Car_Dataset/Renault Duster/000080.jpg', '/content/computerVision/Car_Dataset/Renault Duster/000071.jpg', '/content/computerVision/Car_Dataset/Renault Duster/000091.jpg', '/content/computerVision/Car_Dataset/Renault Duster/000004.jpg', '/content/computerVision/Car_Dataset/Renault Duster/000033.jpg', '/content/computerVision/Car_Dataset/Renault Duster/000009.jpg', '/content/computerVision/Car_Dataset/Renault Duster/000047.jpg', '/content/computerVision/Car_Dataset/Renault Duster/000085.jpg', '/content/computerVision/Car_Dataset/Renault Duster/000076.jpg', '/content/computerVision/Car_Dataset/Renault Duster/000113.jpg', '/content/computerVision/Car_Dataset/Renault Duster/000060.jpg', '/content/computerVision/Car_Dataset/Renault Duster/000054.jpg', '/content/computerVision/Car_Dataset/Renault Duster/000061.jpg', '/content/computerVision/Car_Dataset/Renault Duster/000110.jpg', '/content/computerVision/Car_Dataset/Renault Duster/000138.jpg', '/content/computerVision/Car_Dataset/Renault Duster/000072.jpg', '/content/computerVision/Car_Dataset/Renault Duster/000082.jpg', '/content/computerVision/Car_Dataset/Renault Duster/000099.jpg', '/content/computerVision/Car_Dataset/Renault Duster/000068.jpg', '/content/computerVision/Car_Dataset/Renault Duster/000092.jpg', '/content/computerVision/Car_Dataset/Renault Duster/000036.jpg', '/content/computerVision/Car_Dataset/Renault Duster/000097.jpg', '/content/computerVision/Car_Dataset/Renault Duster/000122.jpg', '/content/computerVision/Car_Dataset/Renault Duster/000024.jpg', '/content/computerVision/Car_Dataset/Renault Duster/000063.jpg', '/content/computerVision/Car_Dataset/Renault Duster/000021.jpg', '/content/computerVision/Car_Dataset/Renault Duster/000125.jpg', '/content/computerVision/Car_Dataset/Renault Duster/000027.jpg', '/content/computerVision/Car_Dataset/Renault Duster/000126.jpg', '/content/computerVision/Car_Dataset/Renault Duster/000135.jpg', '/content/computerVision/Car_Dataset/Renault Duster/000142.jpg', '/content/computerVision/Car_Dataset/Renault Duster/000049.jpg', '/content/computerVision/Car_Dataset/Renault Duster/000079.jpg', '/content/computerVision/Car_Dataset/Renault Duster/000057.jpg', '/content/computerVision/Car_Dataset/Renault Duster/000096.jpg', '/content/computerVision/Car_Dataset/Renault Duster/000106.jpg', '/content/computerVision/Car_Dataset/Renault Duster/000064.jpg', '/content/computerVision/Car_Dataset/Renault Duster/000065.jpg', '/content/computerVision/Car_Dataset/Renault Duster/000035.jpg', '/content/computerVision/Car_Dataset/Renault Duster/000040.jpg', '/content/computerVision/Car_Dataset/Renault Duster/000066.jpg', '/content/computerVision/Car_Dataset/Renault Duster/000121.jpg', '/content/computerVision/Car_Dataset/Renault Duster/000087.jpg', '/content/computerVision/Car_Dataset/Renault Duster/000117.jpg', '/content/computerVision/Car_Dataset/Renault Duster/000124.jpg', '/content/computerVision/Car_Dataset/Renault Duster/000031.jpg', '/content/computerVision/Car_Dataset/Renault Duster/000002.jpg', '/content/computerVision/Car_Dataset/Renault Duster/000037.jpg', '/content/computerVision/Car_Dataset/Renault Duster/000089.jpg', '/content/computerVision/Car_Dataset/Renault Duster/000075.jpg', '/content/computerVision/Car_Dataset/Renault Duster/000056.jpg', '/content/computerVision/Car_Dataset/Renault Duster/000050.jpg', '/content/computerVision/Car_Dataset/Renault Kwid/000045.jpg', '/content/computerVision/Car_Dataset/Renault Kwid/000032.jpg', '/content/computerVision/Car_Dataset/Renault Kwid/000044.jpg', '/content/computerVision/Car_Dataset/Renault Kwid/000083.jpg', '/content/computerVision/Car_Dataset/Renault Kwid/000005.jpg', '/content/computerVision/Car_Dataset/Renault Kwid/000090.jpg', '/content/computerVision/Car_Dataset/Renault Kwid/000094.jpg', '/content/computerVision/Car_Dataset/Renault Kwid/000012.jpg', '/content/computerVision/Car_Dataset/Renault Kwid/000022.jpg', '/content/computerVision/Car_Dataset/Renault Kwid/000104.jpg', '/content/computerVision/Car_Dataset/Renault Kwid/000028.jpg', '/content/computerVision/Car_Dataset/Renault Kwid/000070.JPG', '/content/computerVision/Car_Dataset/Renault Kwid/000017.jpg', '/content/computerVision/Car_Dataset/Renault Kwid/000114.jpg', '/content/computerVision/Car_Dataset/Renault Kwid/000112.jpg', '/content/computerVision/Car_Dataset/Renault Kwid/000067.jpg', '/content/computerVision/Car_Dataset/Renault Kwid/000013.jpg', '/content/computerVision/Car_Dataset/Renault Kwid/000105.jpg', '/content/computerVision/Car_Dataset/Renault Kwid/000101.jpg', '/content/computerVision/Car_Dataset/Renault Kwid/000046.jpg', '/content/computerVision/Car_Dataset/Renault Kwid/000008.jpg', '/content/computerVision/Car_Dataset/Renault Kwid/000084.jpg', '/content/computerVision/Car_Dataset/Renault Kwid/000108.jpg', '/content/computerVision/Car_Dataset/Renault Kwid/000051.jpg', '/content/computerVision/Car_Dataset/Renault Kwid/000109.jpg', '/content/computerVision/Car_Dataset/Renault Kwid/000025.jpg', '/content/computerVision/Car_Dataset/Renault Kwid/000062.jpg', '/content/computerVision/Car_Dataset/Renault Kwid/000058.jpg', '/content/computerVision/Car_Dataset/Renault Kwid/000010.jpg', '/content/computerVision/Car_Dataset/Renault Kwid/000095.jpg', '/content/computerVision/Car_Dataset/Renault Kwid/000023.jpg', '/content/computerVision/Car_Dataset/Renault Kwid/000107.jpg', '/content/computerVision/Car_Dataset/Renault Kwid/000069.jpg', '/content/computerVision/Car_Dataset/Renault Kwid/000042.jpg', '/content/computerVision/Car_Dataset/Renault Kwid/000111.jpg', '/content/computerVision/Car_Dataset/Renault Kwid/000098.jpg', '/content/computerVision/Car_Dataset/Renault Kwid/000034.jpg', '/content/computerVision/Car_Dataset/Renault Kwid/000100.jpg', '/content/computerVision/Car_Dataset/Renault Kwid/000052.jpg', '/content/computerVision/Car_Dataset/Renault Kwid/000078.jpg', '/content/computerVision/Car_Dataset/Renault Kwid/000006.jpg', '/content/computerVision/Car_Dataset/Renault Kwid/000055.jpg', '/content/computerVision/Car_Dataset/Renault Kwid/000003.jpg', '/content/computerVision/Car_Dataset/Renault Kwid/000030.jpg', '/content/computerVision/Car_Dataset/Renault Kwid/000074.jpg', '/content/computerVision/Car_Dataset/Renault Kwid/000039.jpg', '/content/computerVision/Car_Dataset/Renault Kwid/000018.jpg', '/content/computerVision/Car_Dataset/Renault Kwid/000102.jpg', '/content/computerVision/Car_Dataset/Renault Kwid/000014.jpg', '/content/computerVision/Car_Dataset/Renault Kwid/000043.jpg', '/content/computerVision/Car_Dataset/Renault Kwid/000103.jpg', '/content/computerVision/Car_Dataset/Renault Kwid/000019.jpg', '/content/computerVision/Car_Dataset/Renault Kwid/000053.jpg', '/content/computerVision/Car_Dataset/Renault Kwid/000081.jpg', '/content/computerVision/Car_Dataset/Renault Kwid/000088.jpg', '/content/computerVision/Car_Dataset/Renault Kwid/000073.jpg', '/content/computerVision/Car_Dataset/Renault Kwid/000007.jpg', '/content/computerVision/Car_Dataset/Renault Kwid/000059.jpg', '/content/computerVision/Car_Dataset/Renault Kwid/000086.jpg', '/content/computerVision/Car_Dataset/Renault Kwid/000077.jpg', '/content/computerVision/Car_Dataset/Renault Kwid/000020.jpg', '/content/computerVision/Car_Dataset/Renault Kwid/000015.jpg', '/content/computerVision/Car_Dataset/Renault Kwid/000011.jpg', '/content/computerVision/Car_Dataset/Renault Kwid/000026.jpg', '/content/computerVision/Car_Dataset/Renault Kwid/000038.jpg', '/content/computerVision/Car_Dataset/Renault Kwid/000048.jpg', '/content/computerVision/Car_Dataset/Renault Kwid/000093.jpg', '/content/computerVision/Car_Dataset/Renault Kwid/000001.jpg', '/content/computerVision/Car_Dataset/Renault Kwid/000041.jpg', '/content/computerVision/Car_Dataset/Renault Kwid/000080.jpg', '/content/computerVision/Car_Dataset/Renault Kwid/000071.jpg', '/content/computerVision/Car_Dataset/Renault Kwid/000091.jpg', '/content/computerVision/Car_Dataset/Renault Kwid/000004.jpg', '/content/computerVision/Car_Dataset/Renault Kwid/000033.jpg', '/content/computerVision/Car_Dataset/Renault Kwid/000009.jpg', '/content/computerVision/Car_Dataset/Renault Kwid/000047.jpg', '/content/computerVision/Car_Dataset/Renault Kwid/000085.jpg', '/content/computerVision/Car_Dataset/Renault Kwid/000076.jpg', '/content/computerVision/Car_Dataset/Renault Kwid/000113.jpg', '/content/computerVision/Car_Dataset/Renault Kwid/000060.jpg', '/content/computerVision/Car_Dataset/Renault Kwid/000054.jpg', '/content/computerVision/Car_Dataset/Renault Kwid/000061.jpg', '/content/computerVision/Car_Dataset/Renault Kwid/000029.jpg', '/content/computerVision/Car_Dataset/Renault Kwid/000110.jpg', '/content/computerVision/Car_Dataset/Renault Kwid/000072.jpg', '/content/computerVision/Car_Dataset/Renault Kwid/000082.jpg', '/content/computerVision/Car_Dataset/Renault Kwid/000099.jpg', '/content/computerVision/Car_Dataset/Renault Kwid/000068.jpg', '/content/computerVision/Car_Dataset/Renault Kwid/000092.jpg', '/content/computerVision/Car_Dataset/Renault Kwid/000036.jpg', '/content/computerVision/Car_Dataset/Renault Kwid/000097.jpg', '/content/computerVision/Car_Dataset/Renault Kwid/000024.jpg', '/content/computerVision/Car_Dataset/Renault Kwid/000016.jpg', '/content/computerVision/Car_Dataset/Renault Kwid/000063.jpg', '/content/computerVision/Car_Dataset/Renault Kwid/000021.jpg', '/content/computerVision/Car_Dataset/Renault Kwid/000027.jpg', '/content/computerVision/Car_Dataset/Renault Kwid/000049.jpg', '/content/computerVision/Car_Dataset/Renault Kwid/000079.jpg', '/content/computerVision/Car_Dataset/Renault Kwid/000057.jpg', '/content/computerVision/Car_Dataset/Renault Kwid/000096.jpg', '/content/computerVision/Car_Dataset/Renault Kwid/000106.jpg', '/content/computerVision/Car_Dataset/Renault Kwid/000064.jpg', '/content/computerVision/Car_Dataset/Renault Kwid/000065.jpg', '/content/computerVision/Car_Dataset/Renault Kwid/000035.jpg', '/content/computerVision/Car_Dataset/Renault Kwid/000040.jpg', '/content/computerVision/Car_Dataset/Renault Kwid/000066.jpg', '/content/computerVision/Car_Dataset/Renault Kwid/000087.jpg', '/content/computerVision/Car_Dataset/Renault Kwid/000031.jpg', '/content/computerVision/Car_Dataset/Renault Kwid/000002.jpg', '/content/computerVision/Car_Dataset/Renault Kwid/000037.jpg', '/content/computerVision/Car_Dataset/Renault Kwid/000089.jpg', '/content/computerVision/Car_Dataset/Renault Kwid/000075.jpg', '/content/computerVision/Car_Dataset/Renault Kwid/000056.jpg', '/content/computerVision/Car_Dataset/Renault Kwid/000050.jpg', '/content/computerVision/Car_Dataset/dinos/duster.jpg', '/content/computerVision/Car_Dataset/dinos/micra.jpg', '/content/computerVision/Car_Dataset/dinos/kwid.jpg']\n",
            "[INFO] fetching data...\n",
            "[INFO] training model...\n"
          ],
          "name": "stdout"
        },
        {
          "output_type": "stream",
          "text": [
            "/usr/local/lib/python3.6/dist-packages/sklearn/linear_model/logistic.py:432: FutureWarning: Default solver will be changed to 'lbfgs' in 0.22. Specify a solver to silence this warning.\n",
            "  FutureWarning)\n",
            "/usr/local/lib/python3.6/dist-packages/sklearn/linear_model/logistic.py:469: FutureWarning: Default multi_class will be changed to 'auto' in 0.22. Specify the multi_class option to silence this warning.\n",
            "  \"this warning.\", FutureWarning)\n"
          ],
          "name": "stderr"
        },
        {
          "output_type": "stream",
          "text": [
            "              precision    recall  f1-score   support\n",
            "\n",
            "           0       0.70      0.57      0.63        40\n",
            "           1       0.61      0.69      0.65        29\n",
            "           2       0.46      0.54      0.50        24\n",
            "           3       0.00      0.00      0.00         1\n",
            "\n",
            "    accuracy                           0.60        94\n",
            "   macro avg       0.44      0.45      0.44        94\n",
            "weighted avg       0.60      0.60      0.59        94\n",
            "\n",
            "2\n",
            "[PREDICTION] predicted: Renault Kwid, actual: Nissan Micra\n",
            "0\n",
            "[PREDICTION] predicted: Nissan Micra, actual: Renault Kwid\n",
            "0\n",
            "[PREDICTION] predicted: Nissan Micra, actual: Nissan Micra\n",
            "2\n",
            "[PREDICTION] predicted: Renault Kwid, actual: Renault Duster\n",
            "1\n",
            "[PREDICTION] predicted: Renault Duster, actual: Renault Duster\n",
            "0\n",
            "[PREDICTION] predicted: Nissan Micra, actual: Nissan Micra\n",
            "2\n",
            "[PREDICTION] predicted: Renault Kwid, actual: Nissan Micra\n",
            "2\n",
            "[PREDICTION] predicted: Renault Kwid, actual: Renault Kwid\n",
            "1\n",
            "[PREDICTION] predicted: Renault Duster, actual: Renault Duster\n",
            "2\n",
            "[PREDICTION] predicted: Renault Kwid, actual: Renault Duster\n"
          ],
          "name": "stdout"
        },
        {
          "output_type": "stream",
          "text": [
            "/usr/local/lib/python3.6/dist-packages/sklearn/metrics/classification.py:1437: UndefinedMetricWarning: Precision and F-score are ill-defined and being set to 0.0 in labels with no predicted samples.\n",
            "  'precision', 'predicted', average, warn_for)\n"
          ],
          "name": "stderr"
        }
      ]
    },
    {
      "cell_type": "code",
      "metadata": {
        "id": "54-9Cln_533f",
        "colab_type": "code",
        "colab": {}
      },
      "source": [
        ""
      ],
      "execution_count": 0,
      "outputs": []
    }
  ]
}